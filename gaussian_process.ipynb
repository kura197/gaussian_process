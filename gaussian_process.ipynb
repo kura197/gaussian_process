{
 "cells": [
  {
   "cell_type": "code",
   "execution_count": 2,
   "metadata": {},
   "outputs": [],
   "source": [
    "import numpy as np\n",
    "import matplotlib.pyplot as plt"
   ]
  },
  {
   "cell_type": "code",
   "execution_count": 3,
   "metadata": {},
   "outputs": [],
   "source": [
    "x_range = [-10, 10]\n",
    "x_diff = x_range[1] - x_range[0]\n",
    "def plot_func(func):\n",
    "    x = np.arange(x_range[0], x_range[1], 0.01)\n",
    "    y = func(x)\n",
    "    plt.plot(x, y)"
   ]
  },
  {
   "cell_type": "code",
   "execution_count": 4,
   "metadata": {},
   "outputs": [],
   "source": [
    "def plot_points(x, y):\n",
    "    plt.xlim(x_range[0], x_range[1])\n",
    "    plt.scatter(x, y)"
   ]
  },
  {
   "cell_type": "code",
   "execution_count": 94,
   "metadata": {},
   "outputs": [],
   "source": [
    "def gpr_plot(func, x_train, y_train, x_test, mu, var):\n",
    "    x = np.arange(x_range[0], x_range[1], 0.01)\n",
    "    y = func(x)\n",
    "    plt.plot(x, y)\n",
    "    plt.scatter(x_train, y_train, color='orange')\n",
    "    plt.scatter(x_test, mu+2*np.sqrt(var), color='green', s=25)\n",
    "    plt.scatter(x_test, mu-2*np.sqrt(var), color='green', s=25)\n",
    "    plt.scatter(x_test, mu, color='black', marker='x')"
   ]
  },
  {
   "cell_type": "code",
   "execution_count": 95,
   "metadata": {},
   "outputs": [
    {
     "data": {
      "image/png": "[encoded data removed]",
      "text/plain": [
       "<Figure size 432x288 with 1 Axes>"
      ]
     },
     "metadata": {
      "needs_background": "light"
     },
     "output_type": "display_data"
    }
   ],
   "source": [
    "#target_func = lambda x: x*x\n",
    "target_func = lambda x: 2*x + np.sin(x) + np.cos(x)\n",
    "plot_func(target_func)"
   ]
  },
  {
   "cell_type": "code",
   "execution_count": 96,
   "metadata": {},
   "outputs": [
    {
     "data": {
      "image/png": "[encoded data removed]",
      "text/plain": [
       "<Figure size 432x288 with 1 Axes>"
      ]
     },
     "metadata": {
      "needs_background": "light"
     },
     "output_type": "display_data"
    }
   ],
   "source": [
    "get_sample = lambda num: (x_range[1] - x_range[0]) * np.random.rand(num, 1) + x_range[0]\n",
    "\n",
    "n_sample = 25\n",
    "x_train = get_sample(n_sample)\n",
    "y_train = target_func(x_train)\n",
    "plot_points(x_train, y_train)\n"
   ]
  },
  {
   "cell_type": "code",
   "execution_count": 97,
   "metadata": {},
   "outputs": [],
   "source": [
    "def gauss_kernel(x1, x2, theta1, theta2):\n",
    "    return theta1 * np.exp(-(x1 - x2)*(x1 - x2) / theta2)"
   ]
  },
  {
   "cell_type": "code",
   "execution_count": 98,
   "metadata": {},
   "outputs": [],
   "source": [
    "def gpr(x_test, x_train, y_train, kernel):\n",
    "    n_train = len(x_train)\n",
    "    n_test = len(x_test)\n",
    "    K = np.zeros((n_train, n_train))\n",
    "    k = np.zeros((n_train, n_test))\n",
    "    s = np.zeros((n_test, n_test))\n",
    "    for i in range(n_train):\n",
    "        for j in range(n_train):\n",
    "            K[i][j] = kernel(x_train[i], x_train[j])\n",
    "    K_inv = np.linalg.inv(K)\n",
    "    for i in range(n_train):\n",
    "        for j in range(n_test):\n",
    "            k[i][j] = kernel(x_train[i], x_test[j])\n",
    "    for i in range(n_test):\n",
    "        for j in range(n_test):\n",
    "            s[i][j] = kernel(x_test[i], x_test[j])\n",
    "    mu = k.T @ K_inv @ y_train\n",
    "    _var = s - k.T @ K_inv @ k\n",
    "    var = np.zeros(n_test)\n",
    "    for i in range(n_test):\n",
    "        var[i] = _var[i][i]\n",
    "    return mu.reshape(-1), var\n",
    "\n",
    "def gpr_flat(x_test, x_train, y_train, kernel):\n",
    "    n_train = len(x_train)\n",
    "    n_test = len(x_test)\n",
    "    K = np.zeros((n_train, n_train))\n",
    "    for i in range(n_train):\n",
    "        for j in range(n_train):\n",
    "            K[i][j] = kernel(x_train[i], x_train[j])\n",
    "    K_inv = np.linalg.inv(K)\n",
    "    mu = np.zeros((n_test))\n",
    "    var = np.zeros((n_test))\n",
    "    for i in range(n_test):\n",
    "        k = np.zeros((n_train))\n",
    "        for j in range(n_train):\n",
    "            k[j] = kernel(x_test[i], x_train[j])\n",
    "        s = kernel(x_test[i], x_test[i])\n",
    "        mu[i] = k.T @ K_inv @ y_train\n",
    "        var[i] = s - k.T @ K_inv @ k\n",
    "    return mu, var\n",
    "\n"
   ]
  },
  {
   "cell_type": "code",
   "execution_count": 111,
   "metadata": {},
   "outputs": [],
   "source": [
    "def gpr_plot_all(func, x_train, y_train, x_test, kernel):\n",
    "    mu, var = gpr(x_test, x_train, y_train, kernel)\n",
    "    x = np.arange(x_range[0], x_range[1], 0.01)\n",
    "    y = func(x)\n",
    "    plt.plot(x, y, color='red')\n",
    "    plt.plot(x_test, mu, 'b-')\n",
    "    plt.fill_between(x_test, mu-2*np.sqrt(var), mu+2*np.sqrt(var), color='#ccccff')\n",
    "    plt.scatter(x_train, y_train, color='black', marker='x', s=100)"
   ]
  },
  {
   "cell_type": "code",
   "execution_count": 119,
   "metadata": {},
   "outputs": [
    {
     "name": "stderr",
     "output_type": "stream",
     "text": [
      "<ipython-input-97-d345440454dc>:2: RuntimeWarning: overflow encountered in exp\n",
      "  return theta1 * np.exp(-(x1 - x2)*(x1 - x2) / theta2)\n",
      "/home/kuramochi/.local/lib/python3.8/site-packages/numpy/linalg/linalg.py:2139: RuntimeWarning: invalid value encountered in det\n",
      "  r = _umath_linalg.det(a, signature=signature)\n",
      "<ipython-input-119-beb3aae3e70e>:13: RuntimeWarning: invalid value encountered in log\n",
      "  ev = -np.log(det) - y.T @ K_inv @ y\n"
     ]
    },
    {
     "name": "stdout",
     "output_type": "stream",
     "text": [
      "[102.39574584  11.71671369]\n"
     ]
    }
   ],
   "source": [
    "## train hyperparameters\n",
    "## log p(y|x, t) = -log|K_t| - y^T @ K^-1 @ y  --> max_t\n",
    "\n",
    "def evidence(x, y, theta):\n",
    "    kernel = lambda x1, x2, theta: gauss_kernel(x1, x2, theta[0], theta[1])\n",
    "    n_train = len(y)\n",
    "    K = np.zeros((n_train, n_train))\n",
    "    for i in range(n_train):\n",
    "        for j in range(n_train):\n",
    "            K[i][j] = kernel(x[i], x[j], theta)\n",
    "    K_inv = np.linalg.inv(K)\n",
    "    det = np.linalg.det(K)\n",
    "    ev = -np.log(det) - y.T @ K_inv @ y\n",
    "    if ev == np.nan or ev == np.inf:\n",
    "        return -1e18\n",
    "    return ev\n",
    "\n",
    "## p = e^target_func(init_theta)\n",
    "def mcmc_opt(init_theta, target_func, step, iter):\n",
    "    theta = init_theta\n",
    "    cur_p = np.exp(target_func(init_theta))\n",
    "    #print(target_func(init_theta))\n",
    "    eps = 1e-5\n",
    "    for k in range(iter):\n",
    "        r = np.random.rand(2) * 2*step - step\n",
    "        next_theta = theta + r + eps\n",
    "        #print(next_theta)\n",
    "        ev = target_func(next_theta)\n",
    "        nex_p = np.exp(ev)\n",
    "        prob = np.random.rand()\n",
    "        #print(f'prob={prob}, rhs={nex_p/cur_p}')\n",
    "        if prob < (nex_p/cur_p):\n",
    "            theta = next_theta\n",
    "            cur_p = nex_p\n",
    "        #print(target_func(theta))\n",
    "    return theta\n",
    "\n",
    "## TODO: overflow\n",
    "#evidence(x_train, y_train, [150.0, 0.4])\n",
    "target_func = lambda theta: evidence(x_train, y_train, theta)\n",
    "init_theta = [100.0, 0.4]\n",
    "step = 1.0\n",
    "iter = 100\n",
    "theta = mcmc_opt(init_theta, target_func, step, iter)\n",
    "print(theta)"
   ]
  },
  {
   "cell_type": "code",
   "execution_count": 104,
   "metadata": {},
   "outputs": [
    {
     "name": "stdout",
     "output_type": "stream",
     "text": [
      "mu = [-13.52157252   4.54938674  12.51159826  -5.00271625 -30.33076045\n",
      "  -2.99905733  11.81255254  -2.8783242  -27.10678735  16.49492082\n",
      " -15.49804521  15.7730038    6.38142326   9.91301879 -21.45751068], var = [-18.81020379  50.45213628   1.39421149  90.61719547 -84.43060775\n",
      " 164.09143738   8.20084571  79.8665747  -52.34133261  -0.46385945\n",
      " -20.39809213   1.46644076  15.89747201  -0.48020051 -30.37438477]\n"
     ]
    }
   ],
   "source": [
    "## TODO: theta\n",
    "#kernel = lambda x1, x2: gauss_kernel(x1, x2, 1.0, 0.4)\n",
    "kernel = lambda x1, x2: gauss_kernel(x1, x2, theta[0], theta[1])\n",
    "x_test = get_sample(15)\n",
    "mu, var = gpr_flat(x_test, x_train, y_train, kernel)\n",
    "print(f'mu = {mu}, var = {var}')"
   ]
  },
  {
   "cell_type": "code",
   "execution_count": 105,
   "metadata": {},
   "outputs": [],
   "source": [
    "#gpr_plot(target_func, x_train, y_train, x_test, mu, var)"
   ]
  },
  {
   "cell_type": "code",
   "execution_count": 112,
   "metadata": {},
   "outputs": [
    {
     "name": "stdout",
     "output_type": "stream",
     "text": [
      "[-10.    -9.99  -9.98 ...   9.97   9.98   9.99]\n",
      "[[nan]]\n"
     ]
    },
    {
     "name": "stderr",
     "output_type": "stream",
     "text": [
      "<ipython-input-100-32f320516348>:12: RuntimeWarning: invalid value encountered in log\n",
      "  ev = -np.log(np.linalg.det(K)) - y.T @ K_inv @ y\n"
     ]
    },
    {
     "ename": "ValueError",
     "evalue": "x and y must have same first dimension, but have shapes (2000,) and (1, 1)",
     "output_type": "error",
     "traceback": [
      "\u001b[0;31m---------------------------------------------------------------------------\u001b[0m",
      "\u001b[0;31mValueError\u001b[0m                                Traceback (most recent call last)",
      "\u001b[0;32m<ipython-input-112-683a31cd6a2b>\u001b[0m in \u001b[0;36m<module>\u001b[0;34m\u001b[0m\n\u001b[1;32m      1\u001b[0m \u001b[0mx_test_all\u001b[0m \u001b[0;34m=\u001b[0m \u001b[0mnp\u001b[0m\u001b[0;34m.\u001b[0m\u001b[0mlinspace\u001b[0m\u001b[0;34m(\u001b[0m\u001b[0mx_range\u001b[0m\u001b[0;34m[\u001b[0m\u001b[0;36m0\u001b[0m\u001b[0;34m]\u001b[0m\u001b[0;34m,\u001b[0m \u001b[0mx_range\u001b[0m\u001b[0;34m[\u001b[0m\u001b[0;36m1\u001b[0m\u001b[0;34m]\u001b[0m\u001b[0;34m,\u001b[0m \u001b[0;36m100\u001b[0m\u001b[0;34m)\u001b[0m\u001b[0;34m\u001b[0m\u001b[0;34m\u001b[0m\u001b[0m\n\u001b[0;32m----> 2\u001b[0;31m \u001b[0mgpr_plot_all\u001b[0m\u001b[0;34m(\u001b[0m\u001b[0mtarget_func\u001b[0m\u001b[0;34m,\u001b[0m \u001b[0mx_train\u001b[0m\u001b[0;34m,\u001b[0m \u001b[0my_train\u001b[0m\u001b[0;34m,\u001b[0m \u001b[0mx_test_all\u001b[0m\u001b[0;34m,\u001b[0m \u001b[0mkernel\u001b[0m\u001b[0;34m)\u001b[0m\u001b[0;34m\u001b[0m\u001b[0;34m\u001b[0m\u001b[0m\n\u001b[0m",
      "\u001b[0;32m<ipython-input-111-e84538a6fa9f>\u001b[0m in \u001b[0;36mgpr_plot_all\u001b[0;34m(func, x_train, y_train, x_test, kernel)\u001b[0m\n\u001b[1;32m      5\u001b[0m     \u001b[0mprint\u001b[0m\u001b[0;34m(\u001b[0m\u001b[0mx\u001b[0m\u001b[0;34m)\u001b[0m\u001b[0;34m\u001b[0m\u001b[0;34m\u001b[0m\u001b[0m\n\u001b[1;32m      6\u001b[0m     \u001b[0mprint\u001b[0m\u001b[0;34m(\u001b[0m\u001b[0my\u001b[0m\u001b[0;34m)\u001b[0m\u001b[0;34m\u001b[0m\u001b[0;34m\u001b[0m\u001b[0m\n\u001b[0;32m----> 7\u001b[0;31m     \u001b[0mplt\u001b[0m\u001b[0;34m.\u001b[0m\u001b[0mplot\u001b[0m\u001b[0;34m(\u001b[0m\u001b[0mx\u001b[0m\u001b[0;34m,\u001b[0m \u001b[0my\u001b[0m\u001b[0;34m,\u001b[0m \u001b[0mcolor\u001b[0m\u001b[0;34m=\u001b[0m\u001b[0;34m'red'\u001b[0m\u001b[0;34m)\u001b[0m\u001b[0;34m\u001b[0m\u001b[0;34m\u001b[0m\u001b[0m\n\u001b[0m\u001b[1;32m      8\u001b[0m     \u001b[0mplt\u001b[0m\u001b[0;34m.\u001b[0m\u001b[0mplot\u001b[0m\u001b[0;34m(\u001b[0m\u001b[0mx_test\u001b[0m\u001b[0;34m,\u001b[0m \u001b[0mmu\u001b[0m\u001b[0;34m,\u001b[0m \u001b[0;34m'b-'\u001b[0m\u001b[0;34m)\u001b[0m\u001b[0;34m\u001b[0m\u001b[0;34m\u001b[0m\u001b[0m\n\u001b[1;32m      9\u001b[0m     \u001b[0mplt\u001b[0m\u001b[0;34m.\u001b[0m\u001b[0mfill_between\u001b[0m\u001b[0;34m(\u001b[0m\u001b[0mx_test\u001b[0m\u001b[0;34m,\u001b[0m \u001b[0mmu\u001b[0m\u001b[0;34m-\u001b[0m\u001b[0;36m2\u001b[0m\u001b[0;34m*\u001b[0m\u001b[0mnp\u001b[0m\u001b[0;34m.\u001b[0m\u001b[0msqrt\u001b[0m\u001b[0;34m(\u001b[0m\u001b[0mvar\u001b[0m\u001b[0;34m)\u001b[0m\u001b[0;34m,\u001b[0m \u001b[0mmu\u001b[0m\u001b[0;34m+\u001b[0m\u001b[0;36m2\u001b[0m\u001b[0;34m*\u001b[0m\u001b[0mnp\u001b[0m\u001b[0;34m.\u001b[0m\u001b[0msqrt\u001b[0m\u001b[0;34m(\u001b[0m\u001b[0mvar\u001b[0m\u001b[0;34m)\u001b[0m\u001b[0;34m,\u001b[0m \u001b[0mcolor\u001b[0m\u001b[0;34m=\u001b[0m\u001b[0;34m'#ccccff'\u001b[0m\u001b[0;34m)\u001b[0m\u001b[0;34m\u001b[0m\u001b[0;34m\u001b[0m\u001b[0m\n",
      "\u001b[0;32m~/.local/lib/python3.8/site-packages/matplotlib/pyplot.py\u001b[0m in \u001b[0;36mplot\u001b[0;34m(scalex, scaley, data, *args, **kwargs)\u001b[0m\n\u001b[1;32m   2810\u001b[0m \u001b[0;34m@\u001b[0m\u001b[0m_copy_docstring_and_deprecators\u001b[0m\u001b[0;34m(\u001b[0m\u001b[0mAxes\u001b[0m\u001b[0;34m.\u001b[0m\u001b[0mplot\u001b[0m\u001b[0;34m)\u001b[0m\u001b[0;34m\u001b[0m\u001b[0;34m\u001b[0m\u001b[0m\n\u001b[1;32m   2811\u001b[0m \u001b[0;32mdef\u001b[0m \u001b[0mplot\u001b[0m\u001b[0;34m(\u001b[0m\u001b[0;34m*\u001b[0m\u001b[0margs\u001b[0m\u001b[0;34m,\u001b[0m \u001b[0mscalex\u001b[0m\u001b[0;34m=\u001b[0m\u001b[0;32mTrue\u001b[0m\u001b[0;34m,\u001b[0m \u001b[0mscaley\u001b[0m\u001b[0;34m=\u001b[0m\u001b[0;32mTrue\u001b[0m\u001b[0;34m,\u001b[0m \u001b[0mdata\u001b[0m\u001b[0;34m=\u001b[0m\u001b[0;32mNone\u001b[0m\u001b[0;34m,\u001b[0m \u001b[0;34m**\u001b[0m\u001b[0mkwargs\u001b[0m\u001b[0;34m)\u001b[0m\u001b[0;34m:\u001b[0m\u001b[0;34m\u001b[0m\u001b[0;34m\u001b[0m\u001b[0m\n\u001b[0;32m-> 2812\u001b[0;31m     return gca().plot(\n\u001b[0m\u001b[1;32m   2813\u001b[0m         \u001b[0;34m*\u001b[0m\u001b[0margs\u001b[0m\u001b[0;34m,\u001b[0m \u001b[0mscalex\u001b[0m\u001b[0;34m=\u001b[0m\u001b[0mscalex\u001b[0m\u001b[0;34m,\u001b[0m \u001b[0mscaley\u001b[0m\u001b[0;34m=\u001b[0m\u001b[0mscaley\u001b[0m\u001b[0;34m,\u001b[0m\u001b[0;34m\u001b[0m\u001b[0;34m\u001b[0m\u001b[0m\n\u001b[1;32m   2814\u001b[0m         **({\"data\": data} if data is not None else {}), **kwargs)\n",
      "\u001b[0;32m~/.local/lib/python3.8/site-packages/matplotlib/axes/_axes.py\u001b[0m in \u001b[0;36mplot\u001b[0;34m(self, scalex, scaley, data, *args, **kwargs)\u001b[0m\n\u001b[1;32m   1686\u001b[0m         \"\"\"\n\u001b[1;32m   1687\u001b[0m         \u001b[0mkwargs\u001b[0m \u001b[0;34m=\u001b[0m \u001b[0mcbook\u001b[0m\u001b[0;34m.\u001b[0m\u001b[0mnormalize_kwargs\u001b[0m\u001b[0;34m(\u001b[0m\u001b[0mkwargs\u001b[0m\u001b[0;34m,\u001b[0m \u001b[0mmlines\u001b[0m\u001b[0;34m.\u001b[0m\u001b[0mLine2D\u001b[0m\u001b[0;34m)\u001b[0m\u001b[0;34m\u001b[0m\u001b[0;34m\u001b[0m\u001b[0m\n\u001b[0;32m-> 1688\u001b[0;31m         \u001b[0mlines\u001b[0m \u001b[0;34m=\u001b[0m \u001b[0;34m[\u001b[0m\u001b[0;34m*\u001b[0m\u001b[0mself\u001b[0m\u001b[0;34m.\u001b[0m\u001b[0m_get_lines\u001b[0m\u001b[0;34m(\u001b[0m\u001b[0;34m*\u001b[0m\u001b[0margs\u001b[0m\u001b[0;34m,\u001b[0m \u001b[0mdata\u001b[0m\u001b[0;34m=\u001b[0m\u001b[0mdata\u001b[0m\u001b[0;34m,\u001b[0m \u001b[0;34m**\u001b[0m\u001b[0mkwargs\u001b[0m\u001b[0;34m)\u001b[0m\u001b[0;34m]\u001b[0m\u001b[0;34m\u001b[0m\u001b[0;34m\u001b[0m\u001b[0m\n\u001b[0m\u001b[1;32m   1689\u001b[0m         \u001b[0;32mfor\u001b[0m \u001b[0mline\u001b[0m \u001b[0;32min\u001b[0m \u001b[0mlines\u001b[0m\u001b[0;34m:\u001b[0m\u001b[0;34m\u001b[0m\u001b[0;34m\u001b[0m\u001b[0m\n\u001b[1;32m   1690\u001b[0m             \u001b[0mself\u001b[0m\u001b[0;34m.\u001b[0m\u001b[0madd_line\u001b[0m\u001b[0;34m(\u001b[0m\u001b[0mline\u001b[0m\u001b[0;34m)\u001b[0m\u001b[0;34m\u001b[0m\u001b[0;34m\u001b[0m\u001b[0m\n",
      "\u001b[0;32m~/.local/lib/python3.8/site-packages/matplotlib/axes/_base.py\u001b[0m in \u001b[0;36m__call__\u001b[0;34m(self, data, *args, **kwargs)\u001b[0m\n\u001b[1;32m    309\u001b[0m                 \u001b[0mthis\u001b[0m \u001b[0;34m+=\u001b[0m \u001b[0margs\u001b[0m\u001b[0;34m[\u001b[0m\u001b[0;36m0\u001b[0m\u001b[0;34m]\u001b[0m\u001b[0;34m,\u001b[0m\u001b[0;34m\u001b[0m\u001b[0;34m\u001b[0m\u001b[0m\n\u001b[1;32m    310\u001b[0m                 \u001b[0margs\u001b[0m \u001b[0;34m=\u001b[0m \u001b[0margs\u001b[0m\u001b[0;34m[\u001b[0m\u001b[0;36m1\u001b[0m\u001b[0;34m:\u001b[0m\u001b[0;34m]\u001b[0m\u001b[0;34m\u001b[0m\u001b[0;34m\u001b[0m\u001b[0m\n\u001b[0;32m--> 311\u001b[0;31m             yield from self._plot_args(\n\u001b[0m\u001b[1;32m    312\u001b[0m                 this, kwargs, ambiguous_fmt_datakey=ambiguous_fmt_datakey)\n\u001b[1;32m    313\u001b[0m \u001b[0;34m\u001b[0m\u001b[0m\n",
      "\u001b[0;32m~/.local/lib/python3.8/site-packages/matplotlib/axes/_base.py\u001b[0m in \u001b[0;36m_plot_args\u001b[0;34m(self, tup, kwargs, return_kwargs, ambiguous_fmt_datakey)\u001b[0m\n\u001b[1;32m    502\u001b[0m \u001b[0;34m\u001b[0m\u001b[0m\n\u001b[1;32m    503\u001b[0m         \u001b[0;32mif\u001b[0m \u001b[0mx\u001b[0m\u001b[0;34m.\u001b[0m\u001b[0mshape\u001b[0m\u001b[0;34m[\u001b[0m\u001b[0;36m0\u001b[0m\u001b[0;34m]\u001b[0m \u001b[0;34m!=\u001b[0m \u001b[0my\u001b[0m\u001b[0;34m.\u001b[0m\u001b[0mshape\u001b[0m\u001b[0;34m[\u001b[0m\u001b[0;36m0\u001b[0m\u001b[0;34m]\u001b[0m\u001b[0;34m:\u001b[0m\u001b[0;34m\u001b[0m\u001b[0;34m\u001b[0m\u001b[0m\n\u001b[0;32m--> 504\u001b[0;31m             raise ValueError(f\"x and y must have same first dimension, but \"\n\u001b[0m\u001b[1;32m    505\u001b[0m                              f\"have shapes {x.shape} and {y.shape}\")\n\u001b[1;32m    506\u001b[0m         \u001b[0;32mif\u001b[0m \u001b[0mx\u001b[0m\u001b[0;34m.\u001b[0m\u001b[0mndim\u001b[0m \u001b[0;34m>\u001b[0m \u001b[0;36m2\u001b[0m \u001b[0;32mor\u001b[0m \u001b[0my\u001b[0m\u001b[0;34m.\u001b[0m\u001b[0mndim\u001b[0m \u001b[0;34m>\u001b[0m \u001b[0;36m2\u001b[0m\u001b[0;34m:\u001b[0m\u001b[0;34m\u001b[0m\u001b[0;34m\u001b[0m\u001b[0m\n",
      "\u001b[0;31mValueError\u001b[0m: x and y must have same first dimension, but have shapes (2000,) and (1, 1)"
     ]
    },
    {
     "data": {
      "image/png": "[encoded data removed]",
      "text/plain": [
       "<Figure size 432x288 with 1 Axes>"
      ]
     },
     "metadata": {
      "needs_background": "light"
     },
     "output_type": "display_data"
    }
   ],
   "source": [
    "x_test_all = np.linspace(x_range[0], x_range[1], 100)\n",
    "gpr_plot_all(target_func, x_train, y_train, x_test_all, kernel)"
   ]
  },
  {
   "cell_type": "code",
   "execution_count": null,
   "metadata": {},
   "outputs": [],
   "source": []
  }
 ],
 "metadata": {
  "kernelspec": {
   "display_name": "Python 3",
   "language": "python",
   "name": "python3"
  },
  "language_info": {
   "codemirror_mode": {
    "name": "ipython",
    "version": 3
   },
   "file_extension": ".py",
   "mimetype": "text/x-python",
   "name": "python",
   "nbconvert_exporter": "python",
   "pygments_lexer": "ipython3",
   "version": "3.8.10"
  }
 },
 "nbformat": 4,
 "nbformat_minor": 4
}
